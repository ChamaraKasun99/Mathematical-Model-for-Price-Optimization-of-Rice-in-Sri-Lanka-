{
 "cells": [
  {
   "cell_type": "markdown",
   "id": "b7c2bd3e",
   "metadata": {},
   "source": [
    "# Define Objectives and Constraints"
   ]
  },
  {
   "cell_type": "raw",
   "id": "bb0dc0b5",
   "metadata": {},
   "source": [
    "Define Objectives and Constraints:\n",
    "\n",
    "Objective: Clearly define the specific goal you want to achieve with optimal pricing. Do you want to maximize:\n",
    "Revenue: Total income generated from product sales.\n",
    "Profit: Difference between total revenue and total costs.\n",
    "Unit Sales: Number of units sold, regardless of revenue or profit.\n",
    "Market Share: Percentage of total market captured by your product.\n",
    "Brand Perception: Association of your product with a specific price point or value proposition.\n",
    "\n",
    "Constraints: Identify any factors that limit your pricing flexibility and need to be considered:\n",
    "Production Capacity: Maximum number of units you can produce in a given period.\n",
    "Inventory Levels: Available stock of the product and storage limitations.\n",
    "Competitive Landscape: Prices offered by competitors and their market strategies.\n",
    "Budget Restrictions: Marketing and promotional budget allocated for the product.\n",
    "Ethical Considerations: Potential impact of pricing on employee wages, social responsibility, or brand image."
   ]
  },
  {
   "cell_type": "raw",
   "id": "6a32e33b",
   "metadata": {},
   "source": [
    "1. Production Capacity: This sets the maximum number of units you can produce in a given period. It ensures your model doesn't \n",
    "    recommend prices that lead to demand exceeding your production capabilities, preventing you from fulfilling orders and \n",
    "    potentially damaging customer satisfaction.\n",
    "\n",
    "2. Inventory Levels: This specifies the available stock of your product. It guides the model towards price recommendations t\n",
    "    hat wouldn't deplete your inventory completely, avoiding stockouts and lost sales opportunities.\n",
    "\n",
    "3. Competitive Landscape: This considers the prices offered by your competitors. It allows you to set prices that are \n",
    "    strategically competitive within your market, potentially influencing market share and attracting customers sensitive to price differences.\n",
    "\n",
    "4. Budget Restrictions: This establishes your marketing and promotional budget limitations. The model can consider the \n",
    "    cost of marketing campaigns associated with different price points, ensuring your pricing strategy aligns with your \n",
    "    financial constraints.\n",
    "\n",
    "5. Ethical Considerations: This is a broader constraint encompassing factors like employee wages, social responsibility, \n",
    "    and brand image. While not directly quantifiable, it serves as a reminder to set prices that align with your ethical \n",
    "    values and avoid practices that might harm your reputation or employee well-being."
   ]
  },
  {
   "cell_type": "code",
   "execution_count": 1,
   "id": "c33ce517",
   "metadata": {},
   "outputs": [
    {
     "name": "stdout",
     "output_type": "stream",
     "text": [
      "Objective: Profit\n",
      "Constraints: {'Production Capacity': 500, 'Inventory Levels': 400, 'Competitor Price': 75, 'Budget Restrictions': 10000}\n"
     ]
    }
   ],
   "source": [
    "import pandas as pd\n",
    "\n",
    "# Load the dataset\n",
    "data = pd.read_csv(\"optimal_price_data.csv\")\n",
    "\n",
    "# Define the objective\n",
    "objective = \"Profit\"  # Replace with your desired objective (Revenue, Unit Sales, etc.)\n",
    "\n",
    "# Define constraints as a dictionary\n",
    "constraints = {\n",
    "    \"Production Capacity\": 500,  # Maximum units producible per period\n",
    "    \"Inventory Levels\": 400,    # Available stock\n",
    "    \"Competitor Price\": 75,      # Maximum competitor price\n",
    "    \"Budget Restrictions\": 10000  # Marketing budget\n",
    "}\n",
    "\n",
    "# Print the objective and constraints\n",
    "print(\"Objective:\", objective)\n",
    "print(\"Constraints:\", constraints)\n"
   ]
  },
  {
   "cell_type": "markdown",
   "id": "8cae0111",
   "metadata": {},
   "source": [
    "# optimal solution using goal programming"
   ]
  },
  {
   "cell_type": "code",
   "execution_count": null,
   "id": "1e9f3168",
   "metadata": {},
   "outputs": [],
   "source": [
    "pip install scipy pulp"
   ]
  },
  {
   "cell_type": "code",
   "execution_count": 10,
   "id": "ec76eb3b",
   "metadata": {},
   "outputs": [],
   "source": [
    "import pandas as pd\n",
    "import numpy as np\n",
    "from scipy.optimize import minimize\n",
    "\n",
    "data = pd.read_csv(\"optimal_price_data.csv\")\n",
    "objective = \"Profit\"  # Replace with your desired objective"
   ]
  },
  {
   "cell_type": "code",
   "execution_count": 12,
   "id": "6b4c3f4d",
   "metadata": {},
   "outputs": [],
   "source": [
    "def constraint1(price):\n",
    "    return data[\"Price\"] - price  # Revenue >= Cost\n",
    "\n",
    "def constraint2(price):\n",
    "    return Production_Capacity - data[\"Quantity Sold\"]  # Production >= Demand\n",
    "\n",
    "def constraint3(price):\n",
    "    return Inventory_Levels - data[\"Available stock\"]  # Available stock >= supply\n",
    "\n",
    "def constraint4(price):\n",
    "    return Competitor_Price - data[\"competitor price\"]  \n",
    "\n",
    "def constraint5(price):\n",
    "    return Budget_Restrictions - data[\"competitor price\"] \n"
   ]
  },
  {
   "cell_type": "code",
   "execution_count": null,
   "id": "d68da911",
   "metadata": {},
   "outputs": [],
   "source": [
    "def objective_function(price):\n",
    "    return -price * data[\"Quantity Sold\"] + price * data[\"Production Cost\"]  # Maximize profit\n",
    "\n",
    "constraints = [\n",
    "    {'type': 'ineq', 'fun': constraint1},\n",
    "    {'type': 'ineq', 'fun': constraint2},\n",
    "    # Add other constraints\n",
    "]\n",
    "\n",
    "result = minimize(objective_function, x0=[10], method='SLSQP', constraints=constraints)\n",
    "optimal_price = result.x[0]"
   ]
  },
  {
   "cell_type": "code",
   "execution_count": null,
   "id": "a35a16ba",
   "metadata": {},
   "outputs": [],
   "source": [
    "print(\"Optimal Price:\", optimal_price)"
   ]
  },
  {
   "cell_type": "code",
   "execution_count": null,
   "id": "a6c4d89b",
   "metadata": {},
   "outputs": [],
   "source": []
  }
 ],
 "metadata": {
  "kernelspec": {
   "display_name": "Python 3 (ipykernel)",
   "language": "python",
   "name": "python3"
  },
  "language_info": {
   "codemirror_mode": {
    "name": "ipython",
    "version": 3
   },
   "file_extension": ".py",
   "mimetype": "text/x-python",
   "name": "python",
   "nbconvert_exporter": "python",
   "pygments_lexer": "ipython3",
   "version": "3.9.12"
  }
 },
 "nbformat": 4,
 "nbformat_minor": 5
}
