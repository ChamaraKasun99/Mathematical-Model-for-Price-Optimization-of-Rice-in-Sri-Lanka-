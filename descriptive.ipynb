{
 "cells": [
  {
   "cell_type": "markdown",
   "id": "26322895",
   "metadata": {},
   "source": [
    "# Descriptive Analysis"
   ]
  },
  {
   "cell_type": "code",
   "execution_count": 24,
   "id": "417ceb12",
   "metadata": {},
   "outputs": [],
   "source": [
    "import pandas as pd"
   ]
  },
  {
   "cell_type": "code",
   "execution_count": 33,
   "id": "fa79a0ff",
   "metadata": {},
   "outputs": [
    {
     "name": "stdout",
     "output_type": "stream",
     "text": [
      "          date   price  production  exchange_rate  fuel_price  \\\n",
      "0     1/1/2000   26.94    1781.200         73.150        13.2   \n",
      "1     2/1/2000   25.00    1781.200         73.475        16.2   \n",
      "2     3/1/2000   23.09    1781.200         73.750        16.2   \n",
      "3     4/1/2000   22.13    1781.200         74.300        16.2   \n",
      "4     5/1/2000   21.71    1077.600         74.735        16.2   \n",
      "..         ...     ...         ...            ...         ...   \n",
      "271   8/1/2022  239.24    1461.675        357.880       430.0   \n",
      "272   9/1/2022  228.44    1461.675        365.500       430.0   \n",
      "273  10/1/2022  224.78    1931.200        363.000       430.0   \n",
      "274  11/1/2022  222.28    1931.200        368.500       430.0   \n",
      "275  12/1/2022  218.20    1931.200        367.500       420.0   \n",
      "\n",
      "    Poduction Cost (Rs/Hr) Tax rate  \n",
      "0                   12,500      15%  \n",
      "1                   13,200      15%  \n",
      "2                   14,000      15%  \n",
      "3                   11,500      15%  \n",
      "4                   12,000      15%  \n",
      "..                     ...      ...  \n",
      "271                 45,000      15%  \n",
      "272                 46,500      15%  \n",
      "273                 48,000      15%  \n",
      "274                 49,500      15%  \n",
      "275                 51,000      15%  \n",
      "\n",
      "[276 rows x 7 columns]\n"
     ]
    }
   ],
   "source": [
    "import pandas as pd\n",
    "\n",
    "df = pd.read_csv(r\"C:\\Users\\un\\Desktop\\Case Study\\Data_set2.csv\")\n",
    "\n",
    "print(df)"
   ]
  },
  {
   "cell_type": "code",
   "execution_count": 36,
   "id": "bb20847d",
   "metadata": {},
   "outputs": [],
   "source": [
    "#Import libraries\n",
    "import pandas as pd\n",
    "import numpy as np\n",
    "import matplotlib.pyplot as plt\n",
    "import seaborn as sns\n",
    "%matplotlib inline"
   ]
  },
  {
   "cell_type": "code",
   "execution_count": 37,
   "id": "d4800364",
   "metadata": {},
   "outputs": [],
   "source": [
    "#Ignore warnings\n",
    "import warnings\n",
    "warnings.filterwarnings('ignore')"
   ]
  },
  {
   "cell_type": "markdown",
   "id": "4850cd22",
   "metadata": {},
   "source": [
    "#Exploratory data analysis"
   ]
  },
  {
   "cell_type": "code",
   "execution_count": 39,
   "id": "c2858f97",
   "metadata": {},
   "outputs": [
    {
     "data": {
      "text/plain": [
       "(276, 7)"
      ]
     },
     "execution_count": 39,
     "metadata": {},
     "output_type": "execute_result"
    }
   ],
   "source": [
    "df.shape #View dimensions of dataset"
   ]
  },
  {
   "cell_type": "code",
   "execution_count": 40,
   "id": "f29ab207",
   "metadata": {},
   "outputs": [
    {
     "data": {
      "text/html": [
       "<div>\n",
       "<style scoped>\n",
       "    .dataframe tbody tr th:only-of-type {\n",
       "        vertical-align: middle;\n",
       "    }\n",
       "\n",
       "    .dataframe tbody tr th {\n",
       "        vertical-align: top;\n",
       "    }\n",
       "\n",
       "    .dataframe thead th {\n",
       "        text-align: right;\n",
       "    }\n",
       "</style>\n",
       "<table border=\"1\" class=\"dataframe\">\n",
       "  <thead>\n",
       "    <tr style=\"text-align: right;\">\n",
       "      <th></th>\n",
       "      <th>date</th>\n",
       "      <th>price</th>\n",
       "      <th>production</th>\n",
       "      <th>exchange_rate</th>\n",
       "      <th>fuel_price</th>\n",
       "      <th>Poduction Cost (Rs/Hr)</th>\n",
       "      <th>Tax rate</th>\n",
       "    </tr>\n",
       "  </thead>\n",
       "  <tbody>\n",
       "    <tr>\n",
       "      <th>0</th>\n",
       "      <td>1/1/2000</td>\n",
       "      <td>26.94</td>\n",
       "      <td>1781.2</td>\n",
       "      <td>73.150</td>\n",
       "      <td>13.2</td>\n",
       "      <td>12,500</td>\n",
       "      <td>15%</td>\n",
       "    </tr>\n",
       "    <tr>\n",
       "      <th>1</th>\n",
       "      <td>2/1/2000</td>\n",
       "      <td>25.00</td>\n",
       "      <td>1781.2</td>\n",
       "      <td>73.475</td>\n",
       "      <td>16.2</td>\n",
       "      <td>13,200</td>\n",
       "      <td>15%</td>\n",
       "    </tr>\n",
       "    <tr>\n",
       "      <th>2</th>\n",
       "      <td>3/1/2000</td>\n",
       "      <td>23.09</td>\n",
       "      <td>1781.2</td>\n",
       "      <td>73.750</td>\n",
       "      <td>16.2</td>\n",
       "      <td>14,000</td>\n",
       "      <td>15%</td>\n",
       "    </tr>\n",
       "    <tr>\n",
       "      <th>3</th>\n",
       "      <td>4/1/2000</td>\n",
       "      <td>22.13</td>\n",
       "      <td>1781.2</td>\n",
       "      <td>74.300</td>\n",
       "      <td>16.2</td>\n",
       "      <td>11,500</td>\n",
       "      <td>15%</td>\n",
       "    </tr>\n",
       "    <tr>\n",
       "      <th>4</th>\n",
       "      <td>5/1/2000</td>\n",
       "      <td>21.71</td>\n",
       "      <td>1077.6</td>\n",
       "      <td>74.735</td>\n",
       "      <td>16.2</td>\n",
       "      <td>12,000</td>\n",
       "      <td>15%</td>\n",
       "    </tr>\n",
       "  </tbody>\n",
       "</table>\n",
       "</div>"
      ],
      "text/plain": [
       "       date  price  production  exchange_rate  fuel_price  \\\n",
       "0  1/1/2000  26.94      1781.2         73.150        13.2   \n",
       "1  2/1/2000  25.00      1781.2         73.475        16.2   \n",
       "2  3/1/2000  23.09      1781.2         73.750        16.2   \n",
       "3  4/1/2000  22.13      1781.2         74.300        16.2   \n",
       "4  5/1/2000  21.71      1077.6         74.735        16.2   \n",
       "\n",
       "  Poduction Cost (Rs/Hr) Tax rate  \n",
       "0                 12,500      15%  \n",
       "1                 13,200      15%  \n",
       "2                 14,000      15%  \n",
       "3                 11,500      15%  \n",
       "4                 12,000      15%  "
      ]
     },
     "execution_count": 40,
     "metadata": {},
     "output_type": "execute_result"
    }
   ],
   "source": [
    "df.head() #Preview the dataset"
   ]
  },
  {
   "cell_type": "code",
   "execution_count": 41,
   "id": "3e38ab25",
   "metadata": {},
   "outputs": [
    {
     "name": "stdout",
     "output_type": "stream",
     "text": [
      "<class 'pandas.core.frame.DataFrame'>\n",
      "RangeIndex: 276 entries, 0 to 275\n",
      "Data columns (total 7 columns):\n",
      " #   Column                  Non-Null Count  Dtype  \n",
      "---  ------                  --------------  -----  \n",
      " 0   date                    276 non-null    object \n",
      " 1   price                   276 non-null    float64\n",
      " 2   production              276 non-null    float64\n",
      " 3   exchange_rate           276 non-null    float64\n",
      " 4   fuel_price              276 non-null    float64\n",
      " 5   Poduction Cost (Rs/Hr)  276 non-null    object \n",
      " 6   Tax rate                276 non-null    object \n",
      "dtypes: float64(4), object(3)\n",
      "memory usage: 15.2+ KB\n"
     ]
    }
   ],
   "source": [
    "df.info() #View summary of dataset"
   ]
  },
  {
   "cell_type": "code",
   "execution_count": 42,
   "id": "4bb4e06c",
   "metadata": {},
   "outputs": [
    {
     "data": {
      "text/plain": [
       "date                      0\n",
       "price                     0\n",
       "production                0\n",
       "exchange_rate             0\n",
       "fuel_price                0\n",
       "Poduction Cost (Rs/Hr)    0\n",
       "Tax rate                  0\n",
       "dtype: int64"
      ]
     },
     "execution_count": 42,
     "metadata": {},
     "output_type": "execute_result"
    }
   ],
   "source": [
    "#Check for missing values\n",
    "df.isnull().sum()"
   ]
  },
  {
   "cell_type": "code",
   "execution_count": 43,
   "id": "5efee198",
   "metadata": {},
   "outputs": [
    {
     "data": {
      "text/html": [
       "<div>\n",
       "<style scoped>\n",
       "    .dataframe tbody tr th:only-of-type {\n",
       "        vertical-align: middle;\n",
       "    }\n",
       "\n",
       "    .dataframe tbody tr th {\n",
       "        vertical-align: top;\n",
       "    }\n",
       "\n",
       "    .dataframe thead th {\n",
       "        text-align: right;\n",
       "    }\n",
       "</style>\n",
       "<table border=\"1\" class=\"dataframe\">\n",
       "  <thead>\n",
       "    <tr style=\"text-align: right;\">\n",
       "      <th></th>\n",
       "      <th>price</th>\n",
       "      <th>production</th>\n",
       "      <th>exchange_rate</th>\n",
       "      <th>fuel_price</th>\n",
       "    </tr>\n",
       "  </thead>\n",
       "  <tbody>\n",
       "    <tr>\n",
       "      <th>count</th>\n",
       "      <td>276.000000</td>\n",
       "      <td>276.000000</td>\n",
       "      <td>276.000000</td>\n",
       "      <td>276.000000</td>\n",
       "    </tr>\n",
       "    <tr>\n",
       "      <th>mean</th>\n",
       "      <td>68.467842</td>\n",
       "      <td>1925.655851</td>\n",
       "      <td>134.871667</td>\n",
       "      <td>88.548913</td>\n",
       "    </tr>\n",
       "    <tr>\n",
       "      <th>std</th>\n",
       "      <td>41.680099</td>\n",
       "      <td>625.223689</td>\n",
       "      <td>53.498613</td>\n",
       "      <td>68.945093</td>\n",
       "    </tr>\n",
       "    <tr>\n",
       "      <th>min</th>\n",
       "      <td>20.610000</td>\n",
       "      <td>909.320000</td>\n",
       "      <td>73.150000</td>\n",
       "      <td>13.200000</td>\n",
       "    </tr>\n",
       "    <tr>\n",
       "      <th>25%</th>\n",
       "      <td>33.495000</td>\n",
       "      <td>1473.830000</td>\n",
       "      <td>102.578750</td>\n",
       "      <td>50.000000</td>\n",
       "    </tr>\n",
       "    <tr>\n",
       "      <th>50%</th>\n",
       "      <td>63.075000</td>\n",
       "      <td>1898.000000</td>\n",
       "      <td>114.750000</td>\n",
       "      <td>84.000000</td>\n",
       "    </tr>\n",
       "    <tr>\n",
       "      <th>75%</th>\n",
       "      <td>88.627500</td>\n",
       "      <td>2384.000000</td>\n",
       "      <td>152.047500</td>\n",
       "      <td>104.000000</td>\n",
       "    </tr>\n",
       "    <tr>\n",
       "      <th>max</th>\n",
       "      <td>250.070000</td>\n",
       "      <td>3196.750000</td>\n",
       "      <td>368.500000</td>\n",
       "      <td>460.000000</td>\n",
       "    </tr>\n",
       "  </tbody>\n",
       "</table>\n",
       "</div>"
      ],
      "text/plain": [
       "            price   production  exchange_rate  fuel_price\n",
       "count  276.000000   276.000000     276.000000  276.000000\n",
       "mean    68.467842  1925.655851     134.871667   88.548913\n",
       "std     41.680099   625.223689      53.498613   68.945093\n",
       "min     20.610000   909.320000      73.150000   13.200000\n",
       "25%     33.495000  1473.830000     102.578750   50.000000\n",
       "50%     63.075000  1898.000000     114.750000   84.000000\n",
       "75%     88.627500  2384.000000     152.047500  104.000000\n",
       "max    250.070000  3196.750000     368.500000  460.000000"
      ]
     },
     "execution_count": 43,
     "metadata": {},
     "output_type": "execute_result"
    }
   ],
   "source": [
    "#Summary statistics of numerical columns\n",
    "df.describe()"
   ]
  },
  {
   "cell_type": "code",
   "execution_count": 44,
   "id": "89a39c67",
   "metadata": {},
   "outputs": [
    {
     "data": {
      "text/html": [
       "<div>\n",
       "<style scoped>\n",
       "    .dataframe tbody tr th:only-of-type {\n",
       "        vertical-align: middle;\n",
       "    }\n",
       "\n",
       "    .dataframe tbody tr th {\n",
       "        vertical-align: top;\n",
       "    }\n",
       "\n",
       "    .dataframe thead th {\n",
       "        text-align: right;\n",
       "    }\n",
       "</style>\n",
       "<table border=\"1\" class=\"dataframe\">\n",
       "  <thead>\n",
       "    <tr style=\"text-align: right;\">\n",
       "      <th></th>\n",
       "      <th>date</th>\n",
       "      <th>Poduction Cost (Rs/Hr)</th>\n",
       "      <th>Tax rate</th>\n",
       "    </tr>\n",
       "  </thead>\n",
       "  <tbody>\n",
       "    <tr>\n",
       "      <th>count</th>\n",
       "      <td>276</td>\n",
       "      <td>276</td>\n",
       "      <td>276</td>\n",
       "    </tr>\n",
       "    <tr>\n",
       "      <th>unique</th>\n",
       "      <td>276</td>\n",
       "      <td>176</td>\n",
       "      <td>4</td>\n",
       "    </tr>\n",
       "    <tr>\n",
       "      <th>top</th>\n",
       "      <td>1/1/2000</td>\n",
       "      <td>22,500</td>\n",
       "      <td>15%</td>\n",
       "    </tr>\n",
       "    <tr>\n",
       "      <th>freq</th>\n",
       "      <td>1</td>\n",
       "      <td>6</td>\n",
       "      <td>210</td>\n",
       "    </tr>\n",
       "  </tbody>\n",
       "</table>\n",
       "</div>"
      ],
      "text/plain": [
       "            date Poduction Cost (Rs/Hr) Tax rate\n",
       "count        276                    276      276\n",
       "unique       276                    176        4\n",
       "top     1/1/2000                 22,500      15%\n",
       "freq           1                      6      210"
      ]
     },
     "execution_count": 44,
     "metadata": {},
     "output_type": "execute_result"
    }
   ],
   "source": [
    "#Summary statistics of character columns\n",
    "df.describe(include=['object'])"
   ]
  },
  {
   "cell_type": "code",
   "execution_count": 45,
   "id": "3d58522d",
   "metadata": {},
   "outputs": [
    {
     "data": {
      "text/html": [
       "<div>\n",
       "<style scoped>\n",
       "    .dataframe tbody tr th:only-of-type {\n",
       "        vertical-align: middle;\n",
       "    }\n",
       "\n",
       "    .dataframe tbody tr th {\n",
       "        vertical-align: top;\n",
       "    }\n",
       "\n",
       "    .dataframe thead th {\n",
       "        text-align: right;\n",
       "    }\n",
       "</style>\n",
       "<table border=\"1\" class=\"dataframe\">\n",
       "  <thead>\n",
       "    <tr style=\"text-align: right;\">\n",
       "      <th></th>\n",
       "      <th>date</th>\n",
       "      <th>price</th>\n",
       "      <th>production</th>\n",
       "      <th>exchange_rate</th>\n",
       "      <th>fuel_price</th>\n",
       "      <th>Poduction Cost (Rs/Hr)</th>\n",
       "      <th>Tax rate</th>\n",
       "    </tr>\n",
       "  </thead>\n",
       "  <tbody>\n",
       "    <tr>\n",
       "      <th>count</th>\n",
       "      <td>276</td>\n",
       "      <td>276.000000</td>\n",
       "      <td>276.000000</td>\n",
       "      <td>276.000000</td>\n",
       "      <td>276.000000</td>\n",
       "      <td>276</td>\n",
       "      <td>276</td>\n",
       "    </tr>\n",
       "    <tr>\n",
       "      <th>unique</th>\n",
       "      <td>276</td>\n",
       "      <td>NaN</td>\n",
       "      <td>NaN</td>\n",
       "      <td>NaN</td>\n",
       "      <td>NaN</td>\n",
       "      <td>176</td>\n",
       "      <td>4</td>\n",
       "    </tr>\n",
       "    <tr>\n",
       "      <th>top</th>\n",
       "      <td>1/1/2000</td>\n",
       "      <td>NaN</td>\n",
       "      <td>NaN</td>\n",
       "      <td>NaN</td>\n",
       "      <td>NaN</td>\n",
       "      <td>22,500</td>\n",
       "      <td>15%</td>\n",
       "    </tr>\n",
       "    <tr>\n",
       "      <th>freq</th>\n",
       "      <td>1</td>\n",
       "      <td>NaN</td>\n",
       "      <td>NaN</td>\n",
       "      <td>NaN</td>\n",
       "      <td>NaN</td>\n",
       "      <td>6</td>\n",
       "      <td>210</td>\n",
       "    </tr>\n",
       "    <tr>\n",
       "      <th>mean</th>\n",
       "      <td>NaN</td>\n",
       "      <td>68.467842</td>\n",
       "      <td>1925.655851</td>\n",
       "      <td>134.871667</td>\n",
       "      <td>88.548913</td>\n",
       "      <td>NaN</td>\n",
       "      <td>NaN</td>\n",
       "    </tr>\n",
       "    <tr>\n",
       "      <th>std</th>\n",
       "      <td>NaN</td>\n",
       "      <td>41.680099</td>\n",
       "      <td>625.223689</td>\n",
       "      <td>53.498613</td>\n",
       "      <td>68.945093</td>\n",
       "      <td>NaN</td>\n",
       "      <td>NaN</td>\n",
       "    </tr>\n",
       "    <tr>\n",
       "      <th>min</th>\n",
       "      <td>NaN</td>\n",
       "      <td>20.610000</td>\n",
       "      <td>909.320000</td>\n",
       "      <td>73.150000</td>\n",
       "      <td>13.200000</td>\n",
       "      <td>NaN</td>\n",
       "      <td>NaN</td>\n",
       "    </tr>\n",
       "    <tr>\n",
       "      <th>25%</th>\n",
       "      <td>NaN</td>\n",
       "      <td>33.495000</td>\n",
       "      <td>1473.830000</td>\n",
       "      <td>102.578750</td>\n",
       "      <td>50.000000</td>\n",
       "      <td>NaN</td>\n",
       "      <td>NaN</td>\n",
       "    </tr>\n",
       "    <tr>\n",
       "      <th>50%</th>\n",
       "      <td>NaN</td>\n",
       "      <td>63.075000</td>\n",
       "      <td>1898.000000</td>\n",
       "      <td>114.750000</td>\n",
       "      <td>84.000000</td>\n",
       "      <td>NaN</td>\n",
       "      <td>NaN</td>\n",
       "    </tr>\n",
       "    <tr>\n",
       "      <th>75%</th>\n",
       "      <td>NaN</td>\n",
       "      <td>88.627500</td>\n",
       "      <td>2384.000000</td>\n",
       "      <td>152.047500</td>\n",
       "      <td>104.000000</td>\n",
       "      <td>NaN</td>\n",
       "      <td>NaN</td>\n",
       "    </tr>\n",
       "    <tr>\n",
       "      <th>max</th>\n",
       "      <td>NaN</td>\n",
       "      <td>250.070000</td>\n",
       "      <td>3196.750000</td>\n",
       "      <td>368.500000</td>\n",
       "      <td>460.000000</td>\n",
       "      <td>NaN</td>\n",
       "      <td>NaN</td>\n",
       "    </tr>\n",
       "  </tbody>\n",
       "</table>\n",
       "</div>"
      ],
      "text/plain": [
       "            date       price   production  exchange_rate  fuel_price  \\\n",
       "count        276  276.000000   276.000000     276.000000  276.000000   \n",
       "unique       276         NaN          NaN            NaN         NaN   \n",
       "top     1/1/2000         NaN          NaN            NaN         NaN   \n",
       "freq           1         NaN          NaN            NaN         NaN   \n",
       "mean         NaN   68.467842  1925.655851     134.871667   88.548913   \n",
       "std          NaN   41.680099   625.223689      53.498613   68.945093   \n",
       "min          NaN   20.610000   909.320000      73.150000   13.200000   \n",
       "25%          NaN   33.495000  1473.830000     102.578750   50.000000   \n",
       "50%          NaN   63.075000  1898.000000     114.750000   84.000000   \n",
       "75%          NaN   88.627500  2384.000000     152.047500  104.000000   \n",
       "max          NaN  250.070000  3196.750000     368.500000  460.000000   \n",
       "\n",
       "       Poduction Cost (Rs/Hr) Tax rate  \n",
       "count                     276      276  \n",
       "unique                    176        4  \n",
       "top                    22,500      15%  \n",
       "freq                        6      210  \n",
       "mean                      NaN      NaN  \n",
       "std                       NaN      NaN  \n",
       "min                       NaN      NaN  \n",
       "25%                       NaN      NaN  \n",
       "50%                       NaN      NaN  \n",
       "75%                       NaN      NaN  \n",
       "max                       NaN      NaN  "
      ]
     },
     "execution_count": 45,
     "metadata": {},
     "output_type": "execute_result"
    }
   ],
   "source": [
    "#Summary statistics of all the columns\n",
    "df.describe(include='all')"
   ]
  },
  {
   "cell_type": "code",
   "execution_count": 46,
   "id": "8e26dd06",
   "metadata": {},
   "outputs": [
    {
     "name": "stdout",
     "output_type": "stream",
     "text": [
      "68.46784210934781\n"
     ]
    }
   ],
   "source": [
    "#Mean\n",
    "mean = df['price'].mean()\n",
    "print(mean)"
   ]
  },
  {
   "cell_type": "code",
   "execution_count": 47,
   "id": "3c9fa3d9",
   "metadata": {},
   "outputs": [
    {
     "name": "stdout",
     "output_type": "stream",
     "text": [
      "63.075\n"
     ]
    }
   ],
   "source": [
    "#Median\n",
    "median = df['price'].median()\n",
    "print(median)"
   ]
  },
  {
   "cell_type": "code",
   "execution_count": 48,
   "id": "79ba2b57",
   "metadata": {},
   "outputs": [
    {
     "name": "stdout",
     "output_type": "stream",
     "text": [
      "0    38.37\n",
      "1    63.58\n",
      "2    66.37\n",
      "3    98.00\n",
      "Name: price, dtype: float64\n"
     ]
    }
   ],
   "source": [
    "#Mode\n",
    "mode = df['price'].mode()\n",
    "print(mode)"
   ]
  },
  {
   "cell_type": "code",
   "execution_count": 49,
   "id": "f309ba0c",
   "metadata": {},
   "outputs": [
    {
     "data": {
      "text/plain": [
       "<AxesSubplot:xlabel='price', ylabel='Density'>"
      ]
     },
     "execution_count": 49,
     "metadata": {},
     "output_type": "execute_result"
    },
    {
     "data": {
      "image/png": "[encoded data removed]",
      "text/plain": [
       "<Figure size 432x288 with 1 Axes>"
      ]
     },
     "metadata": {
      "needs_background": "light"
     },
     "output_type": "display_data"
    }
   ],
   "source": [
    "#Plot the distribution\n",
    "data = df['price']\n",
    "sns.distplot(data, bins=10, hist=True, kde=True, label = 'price')\n"
   ]
  },
  {
   "cell_type": "code",
   "execution_count": 50,
   "id": "edbf8751",
   "metadata": {},
   "outputs": [
    {
     "data": {
      "text/plain": [
       "20.61"
      ]
     },
     "execution_count": 50,
     "metadata": {},
     "output_type": "execute_result"
    }
   ],
   "source": [
    "#Minimum value\n",
    "df['price'].min()"
   ]
  },
  {
   "cell_type": "code",
   "execution_count": 52,
   "id": "db3b05e4",
   "metadata": {},
   "outputs": [
    {
     "data": {
      "text/plain": [
       "250.07"
      ]
     },
     "execution_count": 52,
     "metadata": {},
     "output_type": "execute_result"
    }
   ],
   "source": [
    "#Maximum value\n",
    "df['price'].max()"
   ]
  },
  {
   "cell_type": "code",
   "execution_count": 53,
   "id": "51d3d879",
   "metadata": {},
   "outputs": [
    {
     "data": {
      "text/plain": [
       "229.45999999999998"
      ]
     },
     "execution_count": 53,
     "metadata": {},
     "output_type": "execute_result"
    }
   ],
   "source": [
    "#Range\n",
    "df['price'].max() - df['price'].min()"
   ]
  },
  {
   "cell_type": "code",
   "execution_count": 54,
   "id": "9351f9d6",
   "metadata": {},
   "outputs": [
    {
     "data": {
      "text/plain": [
       "1737.2306822566084"
      ]
     },
     "execution_count": 54,
     "metadata": {},
     "output_type": "execute_result"
    }
   ],
   "source": [
    "#Variance\n",
    "df['price'].var()"
   ]
  },
  {
   "cell_type": "code",
   "execution_count": 55,
   "id": "56ed0849",
   "metadata": {},
   "outputs": [
    {
     "data": {
      "text/plain": [
       "41.68009935516719"
      ]
     },
     "execution_count": 55,
     "metadata": {},
     "output_type": "execute_result"
    }
   ],
   "source": [
    "#Standard deviation\n",
    "df['price'].std()"
   ]
  },
  {
   "cell_type": "code",
   "execution_count": 56,
   "id": "4101c6c6",
   "metadata": {},
   "outputs": [
    {
     "data": {
      "text/plain": [
       "63.075"
      ]
     },
     "execution_count": 56,
     "metadata": {},
     "output_type": "execute_result"
    }
   ],
   "source": [
    "#Median (Q2 or 50th percentile)\n",
    "Q2 = df['price'].quantile(0.5)\n",
    "Q2"
   ]
  },
  {
   "cell_type": "code",
   "execution_count": 57,
   "id": "c1ec87e1",
   "metadata": {},
   "outputs": [
    {
     "data": {
      "text/plain": [
       "88.6275"
      ]
     },
     "execution_count": 57,
     "metadata": {},
     "output_type": "execute_result"
    }
   ],
   "source": [
    "#Q3 or 75th percentile\n",
    "Q3 = df['price'].quantile(0.75)\n",
    "Q3"
   ]
  },
  {
   "cell_type": "code",
   "execution_count": 58,
   "id": "cdf03193",
   "metadata": {},
   "outputs": [
    {
     "data": {
      "text/plain": [
       "33.495000000000005"
      ]
     },
     "execution_count": 58,
     "metadata": {},
     "output_type": "execute_result"
    }
   ],
   "source": [
    "#Q1 or 25th percentile\n",
    "Q1 = df['price'].quantile(0.25)\n",
    "Q1"
   ]
  },
  {
   "cell_type": "code",
   "execution_count": 59,
   "id": "36e1de74",
   "metadata": {},
   "outputs": [
    {
     "data": {
      "text/plain": [
       "55.13249999999999"
      ]
     },
     "execution_count": 59,
     "metadata": {},
     "output_type": "execute_result"
    }
   ],
   "source": [
    "#Interquartile Range\n",
    "IQR = Q3  - Q1\n",
    "IQR"
   ]
  },
  {
   "cell_type": "code",
   "execution_count": 60,
   "id": "a43ac320",
   "metadata": {},
   "outputs": [
    {
     "data": {
      "image/png": "[encoded data removed]",
      "text/plain": [
       "<Figure size 432x288 with 1 Axes>"
      ]
     },
     "metadata": {
      "needs_background": "light"
     },
     "output_type": "display_data"
    }
   ],
   "source": [
    "plt.boxplot(df['price'])\n",
    "plt.show()"
   ]
  },
  {
   "cell_type": "code",
   "execution_count": 61,
   "id": "70b8a0a0",
   "metadata": {},
   "outputs": [
    {
     "data": {
      "text/plain": [
       "1.9223021275259535"
      ]
     },
     "execution_count": 61,
     "metadata": {},
     "output_type": "execute_result"
    }
   ],
   "source": [
    "#Skewness\n",
    "df['price'].skew()"
   ]
  },
  {
   "cell_type": "code",
   "execution_count": 62,
   "id": "9f4d8ad0",
   "metadata": {},
   "outputs": [
    {
     "data": {
      "text/plain": [
       "5.337302994401137"
      ]
     },
     "execution_count": 62,
     "metadata": {},
     "output_type": "execute_result"
    }
   ],
   "source": [
    "#Kurtosis\n",
    "df['price'].kurt()"
   ]
  },
  {
   "cell_type": "code",
   "execution_count": null,
   "id": "df26258c",
   "metadata": {},
   "outputs": [],
   "source": []
  }
 ],
 "metadata": {
  "kernelspec": {
   "display_name": "Python 3 (ipykernel)",
   "language": "python",
   "name": "python3"
  },
  "language_info": {
   "codemirror_mode": {
    "name": "ipython",
    "version": 3
   },
   "file_extension": ".py",
   "mimetype": "text/x-python",
   "name": "python",
   "nbconvert_exporter": "python",
   "pygments_lexer": "ipython3",
   "version": "3.9.12"
  }
 },
 "nbformat": 4,
 "nbformat_minor": 5
}
