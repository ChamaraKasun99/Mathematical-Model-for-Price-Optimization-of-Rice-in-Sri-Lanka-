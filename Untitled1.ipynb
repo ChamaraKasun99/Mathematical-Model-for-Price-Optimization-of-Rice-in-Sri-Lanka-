{
 "cells": [
  {
   "cell_type": "code",
   "execution_count": 3,
   "id": "77e8f7d2",
   "metadata": {},
   "outputs": [],
   "source": [
    "import pandas as pd\n",
    "import numpy as np\n",
    "\n",
    "# Create a DataFrame with 200 rows\n",
    "data = {\n",
    "    'Price': np.random.randint(10, 100, 200),  # Random prices between 10 and 99\n",
    "    'Quantity Sold': np.random.randint(10, 50, 200),  # Random quantities between 10 and 49\n",
    "    'Competitor Price': np.random.randint(8, 95, 200),  # Random competitor prices\n",
    "    'Marketing Effort': np.random.choice(['Low', 'Medium', 'High'], 200),  # Random marketing levels\n",
    "    'Customer Age': np.random.randint(18, 70, 200),  # Random customer ages\n",
    "    'Season': np.random.choice(['Spring', 'Summer', 'Fall', 'Winter'], 200),  # Random seasons\n",
    "    'GDP Growth': np.random.uniform(-0.05, 0.05, 200),  # Simulated GDP growth rates\n",
    "    'Timestamp': pd.date_range(start='2023-01-01', periods=200),  # Datetime for time series\n",
    "    'Production Cost': np.random.randint(5, 40, 200),  # Random production costs\n",
    "    'Inventory Level': np.random.randint(100, 500, 200)  # Random inventory levels\n",
    "}\n",
    "\n",
    "df = pd.DataFrame(data)\n",
    "\n",
    "# Save as a CSV file\n",
    "df.to_csv('optimal_price_data.csv', index=False)\n"
   ]
  },
  {
   "cell_type": "code",
   "execution_count": null,
   "id": "35103541",
   "metadata": {},
   "outputs": [],
   "source": []
  }
 ],
 "metadata": {
  "kernelspec": {
   "display_name": "Python 3 (ipykernel)",
   "language": "python",
   "name": "python3"
  },
  "language_info": {
   "codemirror_mode": {
    "name": "ipython",
    "version": 3
   },
   "file_extension": ".py",
   "mimetype": "text/x-python",
   "name": "python",
   "nbconvert_exporter": "python",
   "pygments_lexer": "ipython3",
   "version": "3.9.12"
  }
 },
 "nbformat": 4,
 "nbformat_minor": 5
}
